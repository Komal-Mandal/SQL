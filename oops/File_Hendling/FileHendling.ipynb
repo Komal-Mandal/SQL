{
  "nbformat": 4,
  "nbformat_minor": 0,
  "metadata": {
    "colab": {
      "provenance": [],
      "gpuType": "T4"
    },
    "kernelspec": {
      "name": "python3",
      "display_name": "Python 3"
    },
    "language_info": {
      "name": "python"
    },
    "accelerator": "GPU"
  },
  "cells": [
    {
      "cell_type": "code",
      "execution_count": null,
      "metadata": {
        "colab": {
          "base_uri": "https://localhost:8080/",
          "height": 176
        },
        "id": "vEP8zBlCVCvL",
        "outputId": "2b57f40f-39dc-4056-abd0-6348d185b9c1"
      },
      "outputs": [
        {
          "output_type": "error",
          "ename": "ValueError",
          "evalue": "I/O operation on closed file.",
          "traceback": [
            "\u001b[0;31m---------------------------------------------------------------------------\u001b[0m",
            "\u001b[0;31mValueError\u001b[0m                                Traceback (most recent call last)",
            "\u001b[0;32m<ipython-input-1-affeb2c8b75c>\u001b[0m in \u001b[0;36m<cell line: 0>\u001b[0;34m()\u001b[0m\n\u001b[1;32m      4\u001b[0m \u001b[0mf\u001b[0m\u001b[0;34m.\u001b[0m\u001b[0mwrite\u001b[0m\u001b[0;34m(\u001b[0m\u001b[0;34m\"this is the new file\"\u001b[0m\u001b[0;34m)\u001b[0m\u001b[0;34m\u001b[0m\u001b[0;34m\u001b[0m\u001b[0m\n\u001b[1;32m      5\u001b[0m \u001b[0mf\u001b[0m\u001b[0;34m.\u001b[0m\u001b[0mclose\u001b[0m\u001b[0;34m(\u001b[0m\u001b[0;34m)\u001b[0m\u001b[0;34m\u001b[0m\u001b[0;34m\u001b[0m\u001b[0m\n\u001b[0;32m----> 6\u001b[0;31m \u001b[0mf\u001b[0m\u001b[0;34m.\u001b[0m\u001b[0mwrite\u001b[0m\u001b[0;34m(\u001b[0m\u001b[0;34m\"hello\"\u001b[0m\u001b[0;34m)\u001b[0m\u001b[0;34m\u001b[0m\u001b[0;34m\u001b[0m\u001b[0m\n\u001b[0m",
            "\u001b[0;31mValueError\u001b[0m: I/O operation on closed file."
          ]
        }
      ],
      "source": [
        "# case 1 : if file is not present\n",
        "\n",
        "f = open('sample.txt','w')\n",
        "f.write(\"this is the new file\")\n",
        "f.close()\n",
        "f.write(\"hello\")"
      ]
    },
    {
      "cell_type": "code",
      "source": [
        "# write multiple string\n",
        "\n",
        "f = open('sample1.txt','w')\n",
        "f.write(\"hello world\")\n",
        "f.write(\"\\nhow are you???\")\n",
        "f.close()"
      ],
      "metadata": {
        "id": "UXBIk0KfVJhH"
      },
      "execution_count": null,
      "outputs": []
    },
    {
      "cell_type": "code",
      "source": [
        "# if file is already present\n",
        "# previous data is remove when we open the already present file and write something new in it\n",
        "\n",
        "# all files like sample.txt present in rom when we wrte f = open('sample.txt','w') python open this file in buffer memory inside the buffer memory read whole file character by character buffer memory which is in ram and when we write close it means file is now present in\n",
        "\n",
        "# When we open a file with 'w' mode, Python creates it in buffer memory (RAM)\n",
        "f = open('sample.txt','w')\n",
        "# Data is first written to RAM (buffer memory), not directly to storage (ROM)\n",
        "f.write(\"this is the new file\")\n",
        "# Closing the file flushes the buffer and permanently saves it to ROM (storage)\n",
        "f.close()\n"
      ],
      "metadata": {
        "id": "bAVAUbGNWvwQ"
      },
      "execution_count": null,
      "outputs": []
    },
    {
      "cell_type": "code",
      "source": [
        "# problem with w mode:when we use w mode it remove the previous file context\n",
        "# to solve this we can use append mode 'a'\n",
        "f = open('sample.txt','a')\n",
        "f.write(\"\\ni am fine\")\n",
        "f.close()"
      ],
      "metadata": {
        "id": "lmXJcOjdXses"
      },
      "execution_count": null,
      "outputs": []
    },
    {
      "cell_type": "code",
      "source": [
        "L = [\"hello\\n\",\"hii\\n\",\"how are you\\n\"]\n",
        "f = open('sample.txt','a')\n",
        "f.writelines(L)\n",
        "f.close()\n",
        "# We close the file for memory management and data safety.\n",
        "\n",
        "\"\"\" Memory: When read, write, or other operations are performed, the file is opened in RAM.\n",
        " If we do not close the file, its content remains in RAM until the garbage collector removes it.\n",
        " This can lead to unnecessary memory usage and potential data loss if the program crashes.\"\"\"\n",
        "\n",
        " #safety : everyone can access our data\n",
        "\n"
      ],
      "metadata": {
        "colab": {
          "base_uri": "https://localhost:8080/",
          "height": 87
        },
        "id": "Srp3U1BvcJHu",
        "outputId": "387219ca-ff2d-4f87-a55f-f74f337b437f"
      },
      "execution_count": null,
      "outputs": [
        {
          "output_type": "execute_result",
          "data": {
            "text/plain": [
              "' Memory: When read, write, or other operations are performed, the file is opened in RAM.\\n If we do not close the file, its content remains in RAM until the garbage collector removes it.\\n This can lead to unnecessary memory usage and potential data loss if the program crashes.'"
            ],
            "application/vnd.google.colaboratory.intrinsic+json": {
              "type": "string"
            }
          },
          "metadata": {},
          "execution_count": 5
        }
      ]
    },
    {
      "cell_type": "code",
      "source": [
        "# read file\n",
        "f = open('sample1.txt','r')\n",
        "s = f.read()\n",
        "print(s)\n",
        "f.close()"
      ],
      "metadata": {
        "colab": {
          "base_uri": "https://localhost:8080/"
        },
        "id": "I2bs8C8oclex",
        "outputId": "6a6596e8-3f37-4f57-8fbb-9edd1b1d9084"
      },
      "execution_count": null,
      "outputs": [
        {
          "output_type": "stream",
          "name": "stdout",
          "text": [
            "hello world\n",
            "how are you???\n"
          ]
        }
      ]
    },
    {
      "cell_type": "code",
      "source": [
        "# read n character\n",
        "f = open('sample1.txt','r')\n",
        "s = f.read(10)\n",
        "print(s)\n",
        "f.close()"
      ],
      "metadata": {
        "colab": {
          "base_uri": "https://localhost:8080/"
        },
        "id": "1KbLKxDfsiGX",
        "outputId": "72e10903-ac33-4b89-caab-70c0883bd392"
      },
      "execution_count": null,
      "outputs": [
        {
          "output_type": "stream",
          "name": "stdout",
          "text": [
            "hello worl\n"
          ]
        }
      ]
    },
    {
      "cell_type": "code",
      "source": [
        "# read line by line\n",
        "f = open('sample1.txt','r')\n",
        "print(f.readline(),end='')\n",
        "print(f.readline(),end='')\n",
        "f.close()\n",
        "# when file is too long use readline(no memory load)\n",
        "# when file is small use read"
      ],
      "metadata": {
        "colab": {
          "base_uri": "https://localhost:8080/"
        },
        "id": "qsKIAKMWsrJw",
        "outputId": "2c7872a4-db86-4425-c56d-e1b25cd2cc6a"
      },
      "execution_count": null,
      "outputs": [
        {
          "output_type": "stream",
          "name": "stdout",
          "text": [
            "hello world\n",
            "how are you???"
          ]
        }
      ]
    },
    {
      "cell_type": "code",
      "source": [
        "# we don't know number of lines when data or file loaded from internet fot that we have to make custom readline\n",
        "\n",
        "\n",
        "f = open('sample1.txt','r')\n",
        "\n",
        "\n",
        "while True:\n",
        "\n",
        "\n",
        "   data = f.readline()\n",
        "\n",
        "   if data == \"\":\n",
        "          break\n",
        "   else:\n",
        "    print(data,end='')\n",
        "\n",
        "f.close()"
      ],
      "metadata": {
        "colab": {
          "base_uri": "https://localhost:8080/"
        },
        "id": "bcMFzyc4voX7",
        "outputId": "cb4cb729-2768-4254-bdb5-263d8c75d06f"
      },
      "execution_count": null,
      "outputs": [
        {
          "output_type": "stream",
          "name": "stdout",
          "text": [
            "hello world\n",
            "how are you???"
          ]
        }
      ]
    },
    {
      "cell_type": "code",
      "source": [
        "# with replace the close\n",
        "\n",
        "\n",
        "with open('sample.txt','w') as f:\n",
        "  f.write(\"this is the with keyword\")"
      ],
      "metadata": {
        "id": "n8HoDfCCxoqA"
      },
      "execution_count": null,
      "outputs": []
    },
    {
      "cell_type": "code",
      "source": [
        "# moving within a file -> 10 char then 10 char\n",
        "with open('sample.txt','r') as f:\n",
        "  print(f.read(10))\n",
        "  print(f.read(10)) # next 10\n"
      ],
      "metadata": {
        "colab": {
          "base_uri": "https://localhost:8080/"
        },
        "id": "pwlx-xfQyWoj",
        "outputId": "f75d1c28-df72-4f22-f611-f88ad223bf80"
      },
      "execution_count": null,
      "outputs": [
        {
          "output_type": "stream",
          "name": "stdout",
          "text": [
            "this is th\n",
            "e with key\n"
          ]
        }
      ]
    },
    {
      "cell_type": "code",
      "source": [
        "# benefit? -> to load a big file in memory\n",
        "big_L = ['hello world ' for i in range(1000)]\n",
        "\n",
        "with open('big.txt','w') as f:\n",
        "  f.writelines(big_L)\n"
      ],
      "metadata": {
        "id": "wDpUzONt1oMx"
      },
      "execution_count": null,
      "outputs": []
    },
    {
      "cell_type": "code",
      "source": [
        "with open('big.txt','r') as f:\n",
        "\n",
        "  chunk_size = 10\n",
        "\n",
        "  while len(f.read(chunk_size)) > 0:\n",
        "    print(f.read(chunk_size),end='***')\n",
        "    f.read(chunk_size)"
      ],
      "metadata": {
        "colab": {
          "base_uri": "https://localhost:8080/"
        },
        "id": "7m1Hvxzt13qX",
        "outputId": "50b6fa50-3a13-45d0-9b67-b2a3100af6d0"
      },
      "execution_count": null,
      "outputs": [
        {
          "output_type": "stream",
          "name": "stdout",
          "text": [
            "d hello wo***o world he***d hello wo***o world he***d hello wo***o world he***d hello wo***o world he***d hello wo***o world he***d hello wo***o world he***d hello wo***o world he***d hello wo***o world he***d hello wo***o world he***d hello wo***o world he***d hello wo***o world he***d hello wo***o world he***d hello wo***o world he***d hello wo***o world he***d hello wo***o world he***d hello wo***o world he***d hello wo***o world he***d hello wo***o world he***d hello wo***o world he***d hello wo***o world he***d hello wo***o world he***d hello wo***o world he***d hello wo***o world he***d hello wo***o world he***d hello wo***o world he***d hello wo***o world he***d hello wo***o world he***d hello wo***o world he***d hello wo***o world he***d hello wo***o world he***d hello wo***o world he***d hello wo***o world he***d hello wo***o world he***d hello wo***o world he***d hello wo***o world he***d hello wo***o world he***d hello wo***o world he***d hello wo***o world he***d hello wo***o world he***d hello wo***o world he***d hello wo***o world he***d hello wo***o world he***d hello wo***o world he***d hello wo***o world he***d hello wo***o world he***d hello wo***o world he***d hello wo***o world he***d hello wo***o world he***d hello wo***o world he***d hello wo***o world he***d hello wo***o world he***d hello wo***o world he***d hello wo***o world he***d hello wo***o world he***d hello wo***o world he***d hello wo***o world he***d hello wo***o world he***d hello wo***o world he***d hello wo***o world he***d hello wo***o world he***d hello wo***o world he***d hello wo***o world he***d hello wo***o world he***d hello wo***o world he***d hello wo***o world he***d hello wo***o world he***d hello wo***o world he***d hello wo***o world he***d hello wo***o world he***d hello wo***o world he***d hello wo***o world he***d hello wo***o world he***d hello wo***o world he***d hello wo***o world he***d hello wo***o world he***d hello wo***o world he***d hello wo***o world he***d hello wo***o world he***d hello wo***o world he***d hello wo***o world he***d hello wo***o world he***d hello wo***o world he***d hello wo***o world he***d hello wo***o world he***d hello wo***o world he***d hello wo***o world he***d hello wo***o world he***d hello wo***o world he***d hello wo***o world he***d hello wo***o world he***d hello wo***o world he***d hello wo***o world he***d hello wo***o world he***d hello wo***o world he***d hello wo***o world he***d hello wo***o world he***d hello wo***o world he***d hello wo***o world he***d hello wo***o world he***d hello wo***o world he***d hello wo***o world he***d hello wo***o world he***d hello wo***o world he***d hello wo***o world he***d hello wo***o world he***d hello wo***o world he***d hello wo***o world he***d hello wo***o world he***d hello wo***o world he***d hello wo***o world he***d hello wo***o world he***d hello wo***o world he***d hello wo***o world he***d hello wo***o world he***d hello wo***o world he***d hello wo***o world he***d hello wo***o world he***d hello wo***o world he***d hello wo***o world he***d hello wo***o world he***d hello wo***o world he***d hello wo***o world he***d hello wo***o world he***d hello wo***o world he***d hello wo***o world he***d hello wo***o world he***d hello wo***o world he***d hello wo***o world he***d hello wo***o world he***d hello wo***o world he***d hello wo***o world he***d hello wo***o world he***d hello wo***o world he***d hello wo***o world he***d hello wo***o world he***d hello wo***o world he***d hello wo***o world he***d hello wo***o world he***d hello wo***o world he***d hello wo***o world he***d hello wo***o world he***d hello wo***o world he***d hello wo***o world he***d hello wo***o world he***d hello wo***o world he***d hello wo***o world he***d hello wo***o world he***d hello wo***o world he***d hello wo***o world he***d hello wo***o world he***d hello wo***o world he***d hello wo***o world he***d hello wo***o world he***d hello wo***o world he***d hello wo***o world he***d hello wo***o world he***d hello wo***o world he***d hello wo***o world he***d hello wo***o world he***d hello wo***o world he***d hello wo***o world he***d hello wo***o world he***d hello wo***o world he***d hello wo***o world he***d hello wo***o world he***d hello wo***o world he***d hello wo***o world he***d hello wo***o world he***d hello wo***o world he***d hello wo***o world he***d hello wo***o world he***d hello wo***o world he***d hello wo***o world he***d hello wo***o world he***d hello wo***o world he***d hello wo***o world he***d hello wo***o world he***d hello wo***o world he***d hello wo***o world he***d hello wo***o world he***d hello wo***o world he***d hello wo***o world he***d hello wo***o world he***d hello wo***o world he***d hello wo***o world he***d hello wo***o world he***d hello wo***o world he***d hello wo***o world he***d hello wo***o world he***d hello wo***o world he***d hello wo***o world he***d hello wo***o world he***d hello wo***o world he***d hello wo***o world he***d hello wo***o world he***d hello wo***o world he***d hello wo***o world he***d hello wo***o world he***d hello wo***o world he***d hello wo***o world he***"
          ]
        }
      ]
    },
    {
      "cell_type": "code",
      "source": [
        "# seek and tell function\n",
        "with open('sample.txt','r') as f:\n",
        "\n",
        "  print(f.read(10))\n",
        "  print(f.tell())\n",
        "  f.seek(0) # where we want to go (youtube red line)\n",
        "\n",
        "\n",
        "  print(f.read(10))\n",
        "  print(f.tell()) # currently where"
      ],
      "metadata": {
        "colab": {
          "base_uri": "https://localhost:8080/"
        },
        "id": "y8ZmzoeU1_OF",
        "outputId": "68436870-e917-4b6f-f861-8f2eb911ec3f"
      },
      "execution_count": null,
      "outputs": [
        {
          "output_type": "stream",
          "name": "stdout",
          "text": [
            "this is th\n",
            "10\n",
            "this is th\n",
            "10\n"
          ]
        }
      ]
    },
    {
      "cell_type": "code",
      "source": [
        "# seek during write\n",
        "with open('sample.txt','w') as f:\n",
        "  f.write('Hello')\n",
        "  f.seek(0)\n",
        "  f.write('X')"
      ],
      "metadata": {
        "id": "mtlrz7wT3jWk"
      },
      "execution_count": null,
      "outputs": []
    },
    {
      "cell_type": "markdown",
      "source": [
        "problem with working text file:\n",
        "\n",
        "1.it doesn't work with binary files\n",
        "\n",
        "2.it doesn't work with other datatypes int,float"
      ],
      "metadata": {
        "id": "SmLgp-xsZx_o"
      }
    },
    {
      "cell_type": "code",
      "source": [
        "with open('encoder.png','rb') as f:\n",
        "  with open('encoder_copy.png','wb')as wf:\n",
        "    wf.write(f.read())"
      ],
      "metadata": {
        "id": "yrLx-s0S5BsD"
      },
      "execution_count": 2,
      "outputs": []
    },
    {
      "cell_type": "markdown",
      "source": [
        "serialization : it convert python datatype to json\n",
        "\n",
        "Deserialization : it convert json to python"
      ],
      "metadata": {
        "id": "HsQ6612acg42"
      }
    },
    {
      "cell_type": "code",
      "source": [
        "import json\n",
        "\n",
        "L = [1,2,3,4,5]\n",
        "\n",
        "with open('demo.json','w') as f:\n",
        "  json.dump(L,f)"
      ],
      "metadata": {
        "id": "5H4fEdv7Zd3l"
      },
      "execution_count": 3,
      "outputs": []
    },
    {
      "cell_type": "code",
      "source": [
        "# deserealization\n",
        "\n",
        "import json\n",
        "with open('demo.json','r')as f:\n",
        "  l = json.load(f)\n",
        "  print(l)\n",
        "  print(type(l))"
      ],
      "metadata": {
        "colab": {
          "base_uri": "https://localhost:8080/"
        },
        "id": "mMrpOUPfdtck",
        "outputId": "7e711522-2ce2-4ca0-abed-8d62a445101d"
      },
      "execution_count": 4,
      "outputs": [
        {
          "output_type": "stream",
          "name": "stdout",
          "text": [
            "[1, 2, 3, 4, 5]\n",
            "<class 'list'>\n"
          ]
        }
      ]
    },
    {
      "cell_type": "code",
      "source": [],
      "metadata": {
        "id": "SwZTiKkUel2U"
      },
      "execution_count": null,
      "outputs": []
    }
  ]
}